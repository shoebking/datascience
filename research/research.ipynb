{
 "cells": [
  {
   "cell_type": "code",
   "execution_count": 1,
   "metadata": {},
   "outputs": [
    {
     "data": {
      "text/plain": [
       "2"
      ]
     },
     "execution_count": 1,
     "metadata": {},
     "output_type": "execute_result"
    }
   ],
   "source": [
    "1+1"
   ]
  },
  {
   "cell_type": "code",
   "execution_count": 22,
   "metadata": {},
   "outputs": [],
   "source": [
    "from dataclasses import dataclass\n",
    "from pathlib import Path\n",
    "\n",
    "@dataclass\n",
    "class DataIngestionConfig:\n",
    "    root_dir:Path\n",
    "    source_URL:str\n",
    "    local_data_file:Path\n",
    "    unzip_dir:Path"
   ]
  },
  {
   "cell_type": "code",
   "execution_count": 4,
   "metadata": {},
   "outputs": [
    {
     "data": {
      "text/plain": [
       "'d:\\\\Shoeb\\\\MLOPS\\\\datascience\\\\research'"
      ]
     },
     "execution_count": 4,
     "metadata": {},
     "output_type": "execute_result"
    }
   ],
   "source": [
    "%pwd"
   ]
  },
  {
   "cell_type": "code",
   "execution_count": 5,
   "metadata": {},
   "outputs": [],
   "source": [
    "import os"
   ]
  },
  {
   "cell_type": "code",
   "execution_count": 6,
   "metadata": {},
   "outputs": [],
   "source": [
    "os.chdir(\"../\")"
   ]
  },
  {
   "cell_type": "code",
   "execution_count": 7,
   "metadata": {},
   "outputs": [
    {
     "data": {
      "text/plain": [
       "'d:\\\\Shoeb\\\\MLOPS\\\\datascience'"
      ]
     },
     "execution_count": 7,
     "metadata": {},
     "output_type": "execute_result"
    }
   ],
   "source": [
    "%pwd"
   ]
  },
  {
   "cell_type": "code",
   "execution_count": 16,
   "metadata": {},
   "outputs": [
    {
     "name": "stdout",
     "output_type": "stream",
     "text": [
      "Collecting pyyaml\n",
      "  Using cached PyYAML-6.0.2-cp310-cp310-win_amd64.whl.metadata (2.1 kB)\n",
      "Using cached PyYAML-6.0.2-cp310-cp310-win_amd64.whl (161 kB)\n",
      "Installing collected packages: pyyaml\n",
      "Successfully installed pyyaml-6.0.2\n"
     ]
    }
   ],
   "source": [
    "!pip install pyyaml"
   ]
  },
  {
   "cell_type": "code",
   "execution_count": 7,
   "metadata": {},
   "outputs": [],
   "source": [
    "import yaml"
   ]
  },
  {
   "cell_type": "code",
   "execution_count": 19,
   "metadata": {},
   "outputs": [
    {
     "name": "stdout",
     "output_type": "stream",
     "text": [
      "Collecting joblib\n",
      "  Using cached joblib-1.4.2-py3-none-any.whl.metadata (5.4 kB)\n",
      "Using cached joblib-1.4.2-py3-none-any.whl (301 kB)\n",
      "Installing collected packages: joblib\n",
      "Successfully installed joblib-1.4.2\n"
     ]
    }
   ],
   "source": [
    "!pip install joblib"
   ]
  },
  {
   "cell_type": "code",
   "execution_count": 21,
   "metadata": {},
   "outputs": [
    {
     "name": "stdout",
     "output_type": "stream",
     "text": [
      "Collecting ensure\n",
      "  Using cached ensure-1.0.4-py3-none-any.whl.metadata (10 kB)\n",
      "Requirement already satisfied: six>=1.11.0 in d:\\shoeb\\mlops\\datascience\\.venv\\lib\\site-packages (from ensure) (1.17.0)\n",
      "Using cached ensure-1.0.4-py3-none-any.whl (15 kB)\n",
      "Installing collected packages: ensure\n",
      "Successfully installed ensure-1.0.4\n"
     ]
    }
   ],
   "source": [
    "!pip install ensure"
   ]
  },
  {
   "cell_type": "code",
   "execution_count": 30,
   "metadata": {},
   "outputs": [
    {
     "name": "stdout",
     "output_type": "stream",
     "text": [
      "^C\n"
     ]
    }
   ],
   "source": [
    "! pip uninstall box"
   ]
  },
  {
   "cell_type": "code",
   "execution_count": 31,
   "metadata": {},
   "outputs": [
    {
     "name": "stdout",
     "output_type": "stream",
     "text": [
      "Requirement already satisfied: box in d:\\shoeb\\mlops\\datascience\\.venv\\lib\\site-packages (0.1.5)\n",
      "Requirement already satisfied: aiohttp>=3.8.1 in d:\\shoeb\\mlops\\datascience\\.venv\\lib\\site-packages (from box) (3.11.9)\n",
      "Requirement already satisfied: columnar==1.3.1 in d:\\shoeb\\mlops\\datascience\\.venv\\lib\\site-packages (from box) (1.3.1)\n",
      "Requirement already satisfied: executing==0.8.2 in d:\\shoeb\\mlops\\datascience\\.venv\\lib\\site-packages (from box) (0.8.2)\n",
      "Requirement already satisfied: loguru in d:\\shoeb\\mlops\\datascience\\.venv\\lib\\site-packages (from box) (0.7.2)\n",
      "Requirement already satisfied: python-dateutil==2.8.2 in d:\\shoeb\\mlops\\datascience\\.venv\\lib\\site-packages (from box) (2.8.2)\n",
      "Requirement already satisfied: timeago==1.0.14 in d:\\shoeb\\mlops\\datascience\\.venv\\lib\\site-packages (from box) (1.0.14)\n",
      "Requirement already satisfied: toolz in d:\\shoeb\\mlops\\datascience\\.venv\\lib\\site-packages (from columnar==1.3.1->box) (1.0.0)\n",
      "Requirement already satisfied: wcwidth in d:\\shoeb\\mlops\\datascience\\.venv\\lib\\site-packages (from columnar==1.3.1->box) (0.2.13)\n",
      "Requirement already satisfied: six>=1.5 in d:\\shoeb\\mlops\\datascience\\.venv\\lib\\site-packages (from python-dateutil==2.8.2->box) (1.17.0)\n",
      "Requirement already satisfied: aiohappyeyeballs>=2.3.0 in d:\\shoeb\\mlops\\datascience\\.venv\\lib\\site-packages (from aiohttp>=3.8.1->box) (2.4.4)\n",
      "Requirement already satisfied: aiosignal>=1.1.2 in d:\\shoeb\\mlops\\datascience\\.venv\\lib\\site-packages (from aiohttp>=3.8.1->box) (1.3.1)\n",
      "Requirement already satisfied: async-timeout<6.0,>=4.0 in d:\\shoeb\\mlops\\datascience\\.venv\\lib\\site-packages (from aiohttp>=3.8.1->box) (5.0.1)\n",
      "Requirement already satisfied: attrs>=17.3.0 in d:\\shoeb\\mlops\\datascience\\.venv\\lib\\site-packages (from aiohttp>=3.8.1->box) (24.2.0)\n",
      "Requirement already satisfied: frozenlist>=1.1.1 in d:\\shoeb\\mlops\\datascience\\.venv\\lib\\site-packages (from aiohttp>=3.8.1->box) (1.5.0)\n",
      "Requirement already satisfied: multidict<7.0,>=4.5 in d:\\shoeb\\mlops\\datascience\\.venv\\lib\\site-packages (from aiohttp>=3.8.1->box) (6.1.0)\n",
      "Requirement already satisfied: propcache>=0.2.0 in d:\\shoeb\\mlops\\datascience\\.venv\\lib\\site-packages (from aiohttp>=3.8.1->box) (0.2.1)\n",
      "Requirement already satisfied: yarl<2.0,>=1.17.0 in d:\\shoeb\\mlops\\datascience\\.venv\\lib\\site-packages (from aiohttp>=3.8.1->box) (1.18.3)\n",
      "Requirement already satisfied: colorama>=0.3.4 in d:\\shoeb\\mlops\\datascience\\.venv\\lib\\site-packages (from loguru->box) (0.4.6)\n",
      "Requirement already satisfied: win32-setctime>=1.0.0 in d:\\shoeb\\mlops\\datascience\\.venv\\lib\\site-packages (from loguru->box) (1.1.0)\n",
      "Requirement already satisfied: typing-extensions>=4.1.0 in d:\\shoeb\\mlops\\datascience\\.venv\\lib\\site-packages (from multidict<7.0,>=4.5->aiohttp>=3.8.1->box) (4.12.2)\n",
      "Requirement already satisfied: idna>=2.0 in d:\\shoeb\\mlops\\datascience\\.venv\\lib\\site-packages (from yarl<2.0,>=1.17.0->aiohttp>=3.8.1->box) (3.10)\n"
     ]
    }
   ],
   "source": [
    "! pip install box"
   ]
  },
  {
   "cell_type": "code",
   "execution_count": 11,
   "metadata": {},
   "outputs": [
    {
     "name": "stdout",
     "output_type": "stream",
     "text": [
      "Collecting python-box\n",
      "  Using cached python_box-7.2.0-cp310-cp310-win_amd64.whl.metadata (8.0 kB)\n",
      "Using cached python_box-7.2.0-cp310-cp310-win_amd64.whl (1.2 MB)\n",
      "Installing collected packages: python-box\n",
      "Successfully installed python-box-7.2.0\n",
      "Note: you may need to restart the kernel to use updated packages.\n"
     ]
    }
   ],
   "source": [
    "pip install python-box\n"
   ]
  },
  {
   "cell_type": "code",
   "execution_count": 13,
   "metadata": {},
   "outputs": [
    {
     "name": "stdout",
     "output_type": "stream",
     "text": [
      "Name: python-box\n",
      "Version: 7.2.0\n",
      "Summary: Advanced Python dictionaries with dot notation access\n",
      "Home-page: https://github.com/cdgriffith/Box\n",
      "Author: Chris Griffith\n",
      "Author-email: chris@cdgriffith.com\n",
      "License: MIT\n",
      "Location: d:\\shoeb\\mlops\\datascience\\.venv\\lib\\site-packages\n",
      "Requires: \n",
      "Required-by: \n",
      "Note: you may need to restart the kernel to use updated packages.\n"
     ]
    }
   ],
   "source": [
    "pip show python-box\n"
   ]
  },
  {
   "cell_type": "code",
   "execution_count": 17,
   "metadata": {},
   "outputs": [
    {
     "name": "stdout",
     "output_type": "stream",
     "text": [
      "Requirement already satisfied: ipython in d:\\shoeb\\mlops\\datascience\\.venv\\lib\\site-packages (8.30.0)\n",
      "Requirement already satisfied: stack_data in d:\\shoeb\\mlops\\datascience\\.venv\\lib\\site-packages (0.6.3)\n",
      "Requirement already satisfied: colorama in d:\\shoeb\\mlops\\datascience\\.venv\\lib\\site-packages (from ipython) (0.4.6)\n",
      "Requirement already satisfied: decorator in d:\\shoeb\\mlops\\datascience\\.venv\\lib\\site-packages (from ipython) (5.1.1)\n",
      "Requirement already satisfied: exceptiongroup in d:\\shoeb\\mlops\\datascience\\.venv\\lib\\site-packages (from ipython) (1.2.2)\n",
      "Requirement already satisfied: jedi>=0.16 in d:\\shoeb\\mlops\\datascience\\.venv\\lib\\site-packages (from ipython) (0.19.2)\n",
      "Requirement already satisfied: matplotlib-inline in d:\\shoeb\\mlops\\datascience\\.venv\\lib\\site-packages (from ipython) (0.1.7)\n",
      "Requirement already satisfied: prompt_toolkit<3.1.0,>=3.0.41 in d:\\shoeb\\mlops\\datascience\\.venv\\lib\\site-packages (from ipython) (3.0.48)\n",
      "Requirement already satisfied: pygments>=2.4.0 in d:\\shoeb\\mlops\\datascience\\.venv\\lib\\site-packages (from ipython) (2.18.0)\n",
      "Requirement already satisfied: traitlets>=5.13.0 in d:\\shoeb\\mlops\\datascience\\.venv\\lib\\site-packages (from ipython) (5.14.3)\n",
      "Requirement already satisfied: typing_extensions>=4.6 in d:\\shoeb\\mlops\\datascience\\.venv\\lib\\site-packages (from ipython) (4.12.2)\n",
      "Collecting executing>=1.2.0 (from stack_data)\n",
      "  Using cached executing-2.1.0-py2.py3-none-any.whl.metadata (8.9 kB)\n",
      "Requirement already satisfied: asttokens>=2.1.0 in d:\\shoeb\\mlops\\datascience\\.venv\\lib\\site-packages (from stack_data) (3.0.0)\n",
      "Requirement already satisfied: pure-eval in d:\\shoeb\\mlops\\datascience\\.venv\\lib\\site-packages (from stack_data) (0.2.3)\n",
      "Requirement already satisfied: parso<0.9.0,>=0.8.4 in d:\\shoeb\\mlops\\datascience\\.venv\\lib\\site-packages (from jedi>=0.16->ipython) (0.8.4)\n",
      "Requirement already satisfied: wcwidth in d:\\shoeb\\mlops\\datascience\\.venv\\lib\\site-packages (from prompt_toolkit<3.1.0,>=3.0.41->ipython) (0.2.13)\n",
      "Using cached executing-2.1.0-py2.py3-none-any.whl (25 kB)\n",
      "Installing collected packages: executing\n",
      "  Attempting uninstall: executing\n",
      "    Found existing installation: executing 0.8.2\n",
      "    Uninstalling executing-0.8.2:\n",
      "      Successfully uninstalled executing-0.8.2\n",
      "Successfully installed executing-2.1.0\n",
      "Note: you may need to restart the kernel to use updated packages.\n"
     ]
    },
    {
     "name": "stderr",
     "output_type": "stream",
     "text": [
      "ERROR: pip's dependency resolver does not currently take into account all the packages that are installed. This behaviour is the source of the following dependency conflicts.\n",
      "box 0.1.5 requires executing==0.8.2, but you have executing 2.1.0 which is incompatible.\n"
     ]
    }
   ],
   "source": [
    "pip install --upgrade ipython stack_data\n"
   ]
  },
  {
   "cell_type": "code",
   "execution_count": 2,
   "metadata": {},
   "outputs": [],
   "source": [
    "from box import ConfigBox\n"
   ]
  },
  {
   "cell_type": "code",
   "execution_count": null,
   "metadata": {},
   "outputs": [],
   "source": []
  },
  {
   "cell_type": "code",
   "execution_count": null,
   "metadata": {},
   "outputs": [],
   "source": []
  },
  {
   "cell_type": "code",
   "execution_count": null,
   "metadata": {},
   "outputs": [],
   "source": []
  },
  {
   "cell_type": "code",
   "execution_count": 9,
   "metadata": {},
   "outputs": [
    {
     "name": "stdout",
     "output_type": "stream",
     "text": [
      "Requirement already satisfied: stack_data in d:\\shoeb\\mlops\\datascience\\.venv\\lib\\site-packages (0.6.3)\n",
      "Requirement already satisfied: executing>=1.2.0 in d:\\shoeb\\mlops\\datascience\\.venv\\lib\\site-packages (from stack_data) (2.1.0)\n",
      "Requirement already satisfied: asttokens>=2.1.0 in d:\\shoeb\\mlops\\datascience\\.venv\\lib\\site-packages (from stack_data) (3.0.0)\n",
      "Requirement already satisfied: pure-eval in d:\\shoeb\\mlops\\datascience\\.venv\\lib\\site-packages (from stack_data) (0.2.3)\n",
      "Note: you may need to restart the kernel to use updated packages.\n"
     ]
    }
   ],
   "source": [
    "pip install --upgrade stack_data\n"
   ]
  },
  {
   "cell_type": "code",
   "execution_count": 10,
   "metadata": {},
   "outputs": [
    {
     "name": "stdout",
     "output_type": "stream",
     "text": [
      "Requirement already satisfied: ipython in d:\\shoeb\\mlops\\datascience\\.venv\\lib\\site-packages (8.30.0)Note: you may need to restart the kernel to use updated packages.\n",
      "\n",
      "Requirement already satisfied: colorama in d:\\shoeb\\mlops\\datascience\\.venv\\lib\\site-packages (from ipython) (0.4.6)\n",
      "Requirement already satisfied: decorator in d:\\shoeb\\mlops\\datascience\\.venv\\lib\\site-packages (from ipython) (5.1.1)\n",
      "Requirement already satisfied: exceptiongroup in d:\\shoeb\\mlops\\datascience\\.venv\\lib\\site-packages (from ipython) (1.2.2)\n",
      "Requirement already satisfied: jedi>=0.16 in d:\\shoeb\\mlops\\datascience\\.venv\\lib\\site-packages (from ipython) (0.19.2)\n",
      "Requirement already satisfied: matplotlib-inline in d:\\shoeb\\mlops\\datascience\\.venv\\lib\\site-packages (from ipython) (0.1.7)\n",
      "Requirement already satisfied: prompt_toolkit<3.1.0,>=3.0.41 in d:\\shoeb\\mlops\\datascience\\.venv\\lib\\site-packages (from ipython) (3.0.48)\n",
      "Requirement already satisfied: pygments>=2.4.0 in d:\\shoeb\\mlops\\datascience\\.venv\\lib\\site-packages (from ipython) (2.18.0)\n",
      "Requirement already satisfied: stack_data in d:\\shoeb\\mlops\\datascience\\.venv\\lib\\site-packages (from ipython) (0.6.3)\n",
      "Requirement already satisfied: traitlets>=5.13.0 in d:\\shoeb\\mlops\\datascience\\.venv\\lib\\site-packages (from ipython) (5.14.3)\n",
      "Requirement already satisfied: typing_extensions>=4.6 in d:\\shoeb\\mlops\\datascience\\.venv\\lib\\site-packages (from ipython) (4.12.2)\n",
      "Requirement already satisfied: parso<0.9.0,>=0.8.4 in d:\\shoeb\\mlops\\datascience\\.venv\\lib\\site-packages (from jedi>=0.16->ipython) (0.8.4)\n",
      "Requirement already satisfied: wcwidth in d:\\shoeb\\mlops\\datascience\\.venv\\lib\\site-packages (from prompt_toolkit<3.1.0,>=3.0.41->ipython) (0.2.13)\n",
      "Requirement already satisfied: executing>=1.2.0 in d:\\shoeb\\mlops\\datascience\\.venv\\lib\\site-packages (from stack_data->ipython) (2.1.0)\n",
      "Requirement already satisfied: asttokens>=2.1.0 in d:\\shoeb\\mlops\\datascience\\.venv\\lib\\site-packages (from stack_data->ipython) (3.0.0)\n",
      "Requirement already satisfied: pure-eval in d:\\shoeb\\mlops\\datascience\\.venv\\lib\\site-packages (from stack_data->ipython) (0.2.3)\n"
     ]
    }
   ],
   "source": [
    "pip install --upgrade ipython\n"
   ]
  },
  {
   "cell_type": "code",
   "execution_count": 8,
   "metadata": {},
   "outputs": [],
   "source": [
    "from src.datascience.constants import *\n",
    "from src.datascience.utils.common import read_yaml, create_directories"
   ]
  },
  {
   "cell_type": "code",
   "execution_count": 23,
   "metadata": {},
   "outputs": [],
   "source": [
    "class ConfigurationManager:\n",
    "    def __init__ (self,\n",
    "                 config_file_path=CONFIG_FILE_PATH,\n",
    "                 params_file_path=PARAMS_FILE_PATH,\n",
    "                 schema_file_path=SCHEMA_FILE_PATH):\n",
    "        \n",
    "        self.config=read_yaml(config_file_path)\n",
    "        self.params=read_yaml(params_file_path)\n",
    "        self.schema=read_yaml(schema_file_path)\n",
    "\n",
    "        create_directories([self.config.artifacts_root])\n",
    "\n",
    "    def get_data_ingestion_config(self) -> DataIngestionConfig:\n",
    "\n",
    "        config=self.config.data_ingestion\n",
    "        create_directories([config.root_dir])\n",
    "\n",
    "        data_ingestion_config=DataIngestionConfig(\n",
    "\n",
    "            root_dir=config.root_dir,\n",
    "            source_URL=config.source_URL,\n",
    "            local_data_file=config.local_data_file,\n",
    "            unzip_dir=config.unzip_dir\n",
    "        )\n",
    "\n",
    "        return data_ingestion_config\n",
    "\n"
   ]
  },
  {
   "cell_type": "code",
   "execution_count": 24,
   "metadata": {},
   "outputs": [],
   "source": [
    "import os\n",
    "import urllib.request as request\n",
    "from src.datascience import logger\n",
    "import zipfile"
   ]
  },
  {
   "cell_type": "code",
   "execution_count": 25,
   "metadata": {},
   "outputs": [],
   "source": [
    "## component-Data Ingestion\n",
    "\n",
    "class DataIngestion:\n",
    "    def __init__(self,config:DataIngestionConfig):\n",
    "        self.config=config\n",
    "    \n",
    "    # Downloading the zip file\n",
    "    def download_file(self):\n",
    "        if not os.path.exists(self.config.local_data_file):\n",
    "            filename, headers = request.urlretrieve(\n",
    "                url = self.config.source_URL,\n",
    "                filename = self.config.local_data_file\n",
    "            )\n",
    "            logger.info(f\"{filename} download! with following info: \\n{headers}\")\n",
    "        else:\n",
    "            logger.info(f\"File already exists\")\n",
    "\n",
    "    def extract_zip_file(self):\n",
    "        \"\"\"\n",
    "        zip_file_path: str\n",
    "        Extracts the zip file into the data directory\n",
    "        Function returns None\n",
    "        \"\"\"\n",
    "        unzip_path = self.config.unzip_dir\n",
    "        os.makedirs(unzip_path, exist_ok=True)\n",
    "        with zipfile.ZipFile(self.config.local_data_file, 'r') as zip_ref:\n",
    "            zip_ref.extractall(unzip_path)\n"
   ]
  },
  {
   "cell_type": "code",
   "execution_count": 26,
   "metadata": {},
   "outputs": [
    {
     "name": "stdout",
     "output_type": "stream",
     "text": [
      "[2024-12-04 23:48:49,692: INFO: common: yaml file: config\\config.yaml loaded successfully]\n",
      "[2024-12-04 23:48:49,694: INFO: common: yaml file: params.yaml loaded successfully]\n",
      "[2024-12-04 23:48:49,695: INFO: common: yaml file: schema.yaml loaded successfully]\n",
      "[2024-12-04 23:48:49,696: INFO: common: created directory at: artifacts]\n",
      "[2024-12-04 23:48:49,697: INFO: common: created directory at: artifacts/data_ingestion]\n",
      "[2024-12-04 23:48:50,471: INFO: 251335794: artifacts/data_ingestion/data.zip download! with following info: \n",
      "Connection: close\n",
      "Content-Length: 23329\n",
      "Cache-Control: max-age=300\n",
      "Content-Security-Policy: default-src 'none'; style-src 'unsafe-inline'; sandbox\n",
      "Content-Type: application/zip\n",
      "ETag: \"c69888a4ae59bc5a893392785a938ccd4937981c06ba8a9d6a21aa52b4ab5b6e\"\n",
      "Strict-Transport-Security: max-age=31536000\n",
      "X-Content-Type-Options: nosniff\n",
      "X-Frame-Options: deny\n",
      "X-XSS-Protection: 1; mode=block\n",
      "X-GitHub-Request-Id: 0B5C:35A183:163F5A:1B6E70:67509D09\n",
      "Accept-Ranges: bytes\n",
      "Date: Wed, 04 Dec 2024 18:18:50 GMT\n",
      "Via: 1.1 varnish\n",
      "X-Served-By: cache-hyd1100034-HYD\n",
      "X-Cache: MISS\n",
      "X-Cache-Hits: 0\n",
      "X-Timer: S1733336330.147422,VS0,VE330\n",
      "Vary: Authorization,Accept-Encoding,Origin\n",
      "Access-Control-Allow-Origin: *\n",
      "Cross-Origin-Resource-Policy: cross-origin\n",
      "X-Fastly-Request-ID: 1c2bb3f7f6bf4e034e7497dd78fc8e26bab25eca\n",
      "Expires: Wed, 04 Dec 2024 18:23:50 GMT\n",
      "Source-Age: 0\n",
      "\n",
      "]\n"
     ]
    }
   ],
   "source": [
    "try:\n",
    "    config=ConfigurationManager()\n",
    "    data_ingestion_config=config.get_data_ingestion_config()\n",
    "    data_ingestion=DataIngestion(config=data_ingestion_config)\n",
    "    data_ingestion.download_file()\n",
    "    data_ingestion.extract_zip_file()\n",
    "except Exception as e:\n",
    "    raise e"
   ]
  },
  {
   "cell_type": "code",
   "execution_count": null,
   "metadata": {},
   "outputs": [],
   "source": []
  }
 ],
 "metadata": {
  "kernelspec": {
   "display_name": ".venv",
   "language": "python",
   "name": "python3"
  },
  "language_info": {
   "codemirror_mode": {
    "name": "ipython",
    "version": 3
   },
   "file_extension": ".py",
   "mimetype": "text/x-python",
   "name": "python",
   "nbconvert_exporter": "python",
   "pygments_lexer": "ipython3",
   "version": "3.10.2"
  }
 },
 "nbformat": 4,
 "nbformat_minor": 2
}
